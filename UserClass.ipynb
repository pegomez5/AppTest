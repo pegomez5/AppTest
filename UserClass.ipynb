{
 "cells": [
  {
   "cell_type": "code",
   "execution_count": 348,
   "id": "91e38bef-c5fb-4e87-b970-1682ddcd2968",
   "metadata": {},
   "outputs": [],
   "source": [
    "import random\n",
    "#import hashlib\n",
    "\n",
    "users = []\n",
    "\n",
    "class User:\n",
    "    _user_id = 0 # int Private, unique id per user \n",
    "    isCoordinator = False # If User is a Coordinator (default False; if True, make Coordinator object)\n",
    "    __isActive = True # If User is deactivated (aka deleted) (default False; if True, delete User object)\n",
    "    clubs = [] # List of Clubs a User follows\n",
    "    preferences = [] # List of preferences a User follows\n",
    "\n",
    "    def __init__(self, first_name, last_name, username, email, password, isCoordinator):\n",
    "        self.first_name = first_name\n",
    "        self.last_name = last_name\n",
    "        self.username = username\n",
    "        self.email = email\n",
    "        self.__password = password\n",
    "        self.isCoordinator = isCoordinator\n",
    "        random.seed(self.username)\n",
    "        self._user_id = random.random()\n",
    "        users.append(self)\n",
    "\n",
    "    def addClub(self, club):\n",
    "        hasClub = [i.lower() for i in self.clubs if i in self.clubs]\n",
    "        if club.lower() in hasClub:\n",
    "            print(\"Already has club.\")\n",
    "        else:\n",
    "            self.clubs.append(club)\n",
    "\n",
    "    def removeClub(self, club):\n",
    "        for i in self.clubs:\n",
    "            if i == club:\n",
    "                self.clubs.remove(club)\n",
    "\n",
    "    def addPreference(self, preference):\n",
    "        hasPreference = [i.lower() for i in self.preferences if i in self.preferences]\n",
    "        if preference.lower() in hasPreference:\n",
    "            print(\"Already has preference.\")\n",
    "        else:\n",
    "            self.preferences.append(preference)\n",
    "\n",
    "    def removePreference(self, preference):\n",
    "        for i in self.preferences:\n",
    "            if i == preference:\n",
    "                self.preferences.remove(preference)\n",
    "\n",
    "    def deactivateUser(self):\n",
    "        self.isActive = False\n",
    "\n",
    "def isEmailWithUser(email):\n",
    "    for i in users:\n",
    "        if i.email == email and i.isActive :\n",
    "            return True\n",
    "    return False\n",
    "\n",
    "def isUsernameWithUser(username):\n",
    "    for i in users:\n",
    "        if i.username == username and i.isActive:\n",
    "            return True\n",
    "    return False\n",
    "\n",
    "def __getUserIDFromEmail(email):\n",
    "    for i in users:\n",
    "        if i.email == email and i.isActive:\n",
    "            return i.__user_id\n",
    "    return None\n",
    "\n",
    "def __removeUser(__user_id):\n",
    "    for i in users:\n",
    "        if i.__user_id == __user_id:\n",
    "            i.deactivateUser"
   ]
  },
  {
   "cell_type": "code",
   "execution_count": 350,
   "id": "5b9bacf4-ab66-41e4-b65a-ea0dc844fc75",
   "metadata": {},
   "outputs": [],
   "source": [
    "x = User(\"Hannah\", \"Jeffers\", \"hannahj423\", \"hannahj423@gmail.com\", \"password\", False)\n",
    "y = User(\"Matt\", \"Latta\", \"WeeLad\", \"mattlatta@gmail.com\", \"password\", False)"
   ]
  },
  {
   "cell_type": "code",
   "execution_count": 352,
   "id": "81e6767a-89e7-4d9b-936f-5edecd20ea55",
   "metadata": {},
   "outputs": [
    {
     "data": {
      "text/plain": [
       "[<__main__.User at 0x20546c868a0>, <__main__.User at 0x20546acf590>]"
      ]
     },
     "execution_count": 352,
     "metadata": {},
     "output_type": "execute_result"
    }
   ],
   "source": [
    "users"
   ]
  },
  {
   "cell_type": "code",
   "execution_count": 354,
   "id": "8aeead2d-239a-4ded-92f7-1e043a14188a",
   "metadata": {},
   "outputs": [
    {
     "data": {
      "text/plain": [
       "['Soccer', 'Theater', 'Baseball', 'AMC']"
      ]
     },
     "execution_count": 354,
     "metadata": {},
     "output_type": "execute_result"
    }
   ],
   "source": [
    "x.addClub(\"Soccer\")\n",
    "x.addClub(\"Theater\")\n",
    "x.addClub(\"Baseball\")\n",
    "x.addClub(\"AMC\")\n",
    "x.clubs"
   ]
  },
  {
   "cell_type": "code",
   "execution_count": 356,
   "id": "9104130a-2465-45fe-968a-5f755b850e65",
   "metadata": {},
   "outputs": [
    {
     "name": "stdout",
     "output_type": "stream",
     "text": [
      "Already has club.\n"
     ]
    }
   ],
   "source": [
    "x.addClub(\"Soccer\")"
   ]
  },
  {
   "cell_type": "code",
   "execution_count": 358,
   "id": "6a1b29db-6bb8-43f3-b414-862173cf76f8",
   "metadata": {},
   "outputs": [
    {
     "name": "stdout",
     "output_type": "stream",
     "text": [
      "True\n",
      "True\n",
      "False\n"
     ]
    }
   ],
   "source": [
    "print(isEmailWithUser(\"hannahj423@gmail.com\"))\n",
    "print(isEmailWithUser(\"mattlatta@gmail.com\"))\n",
    "print(isEmailWithUser(\"example@gmail.com\"))"
   ]
  },
  {
   "cell_type": "code",
   "execution_count": 360,
   "id": "322f6b14-6b64-42d0-9577-d8eb8eb5d802",
   "metadata": {},
   "outputs": [
    {
     "name": "stdout",
     "output_type": "stream",
     "text": [
      "True\n",
      "True\n",
      "False\n"
     ]
    }
   ],
   "source": [
    "print(isUsernameWithUser(\"hannahj423\"))\n",
    "print(isUsernameWithUser(\"WeeLad\"))\n",
    "print(isUsernameWithUser(\"EXamPLE\"))"
   ]
  },
  {
   "cell_type": "code",
   "execution_count": 362,
   "id": "58739d04-bf60-4a84-a8a9-307af035735a",
   "metadata": {},
   "outputs": [
    {
     "name": "stdout",
     "output_type": "stream",
     "text": [
      "0.6327198387656863\n"
     ]
    }
   ],
   "source": [
    "random.seed(x.username)\n",
    "print(random.random())"
   ]
  },
  {
   "cell_type": "code",
   "execution_count": 364,
   "id": "98e781ea-5af8-48dc-88cd-0ddd6879b797",
   "metadata": {},
   "outputs": [
    {
     "name": "stdout",
     "output_type": "stream",
     "text": [
      "0.22773501744513125\n"
     ]
    }
   ],
   "source": [
    "random.seed(y.username)\n",
    "print(random.random())"
   ]
  },
  {
   "cell_type": "code",
   "execution_count": 366,
   "id": "ffbc477c-378f-4de1-bf7c-0d56f51a5203",
   "metadata": {},
   "outputs": [
    {
     "name": "stdout",
     "output_type": "stream",
     "text": [
      "0.6327198387656863\n"
     ]
    }
   ],
   "source": [
    "random.seed(\"hannahj423\")\n",
    "print(random.random())"
   ]
  },
  {
   "cell_type": "code",
   "execution_count": 368,
   "id": "e31d87ce-f07c-4eff-9a05-75b4886af52e",
   "metadata": {},
   "outputs": [
    {
     "name": "stdout",
     "output_type": "stream",
     "text": [
      "hi\n"
     ]
    }
   ],
   "source": [
    "ret = 0\n",
    "ret = \"hi\"\n",
    "print(ret)"
   ]
  },
  {
   "cell_type": "code",
   "execution_count": 370,
   "id": "df26d71f-f78b-443d-b996-f5396e32b702",
   "metadata": {},
   "outputs": [],
   "source": [
    "arr = []\n",
    "for i in arr:\n",
    "    print(i)"
   ]
  },
  {
   "cell_type": "code",
   "execution_count": 374,
   "id": "ac4fb7db-1dec-4bc9-a391-c4c169b032eb",
   "metadata": {},
   "outputs": [
    {
     "ename": "AttributeError",
     "evalue": "'User' object has no attribute '__user_id'",
     "output_type": "error",
     "traceback": [
      "\u001b[1;31m---------------------------------------------------------------------------\u001b[0m",
      "\u001b[1;31mAttributeError\u001b[0m                            Traceback (most recent call last)",
      "Cell \u001b[1;32mIn[374], line 1\u001b[0m\n\u001b[1;32m----> 1\u001b[0m \u001b[38;5;28mprint\u001b[39m(\u001b[38;5;28mproperty\u001b[39m(__getUserIDFromEmail(\u001b[38;5;124m\"\u001b[39m\u001b[38;5;124mhannahj423@gmail.com\u001b[39m\u001b[38;5;124m\"\u001b[39m)))\n",
      "Cell \u001b[1;32mIn[348], line 65\u001b[0m, in \u001b[0;36m__getUserIDFromEmail\u001b[1;34m(email)\u001b[0m\n\u001b[0;32m     63\u001b[0m \u001b[38;5;28;01mfor\u001b[39;00m i \u001b[38;5;129;01min\u001b[39;00m users:\n\u001b[0;32m     64\u001b[0m     \u001b[38;5;28;01mif\u001b[39;00m i\u001b[38;5;241m.\u001b[39memail \u001b[38;5;241m==\u001b[39m email:\n\u001b[1;32m---> 65\u001b[0m         \u001b[38;5;28;01mreturn\u001b[39;00m i\u001b[38;5;241m.\u001b[39m__user_id\n\u001b[0;32m     66\u001b[0m \u001b[38;5;28;01mreturn\u001b[39;00m \u001b[38;5;28;01mNone\u001b[39;00m\n",
      "\u001b[1;31mAttributeError\u001b[0m: 'User' object has no attribute '__user_id'"
     ]
    }
   ],
   "source": [
    "print(property(__getUserIDFromEmail(\"hannahj423@gmail.com\")))"
   ]
  },
  {
   "cell_type": "code",
   "execution_count": null,
   "id": "1444dccc-0ab6-4c3e-b142-9b05d99841b1",
   "metadata": {},
   "outputs": [],
   "source": []
  }
 ],
 "metadata": {
  "kernelspec": {
   "display_name": "Python [conda env:base] *",
   "language": "python",
   "name": "conda-base-py"
  },
  "language_info": {
   "codemirror_mode": {
    "name": "ipython",
    "version": 3
   },
   "file_extension": ".py",
   "mimetype": "text/x-python",
   "name": "python",
   "nbconvert_exporter": "python",
   "pygments_lexer": "ipython3",
   "version": "3.12.7"
  }
 },
 "nbformat": 4,
 "nbformat_minor": 5
}
